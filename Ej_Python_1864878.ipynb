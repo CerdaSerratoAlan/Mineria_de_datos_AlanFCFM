{
  "nbformat": 4,
  "nbformat_minor": 0,
  "metadata": {
    "colab": {
      "name": "Alan Ejercicios en Python",
      "provenance": [],
      "collapsed_sections": []
    },
    "kernelspec": {
      "display_name": "Python 3",
      "name": "python3"
    }
  },
  "cells": [
    {
      "cell_type": "markdown",
      "metadata": {
        "id": "1V_HsMWLITbt"
      },
      "source": [
        "# Ejercicio 1\n",
        "Realiza una variable con tu matricula y realiza una secuencia de imprimir con tu nombre y tu matricula concatenados."
      ]
    },
    {
      "cell_type": "code",
      "metadata": {
        "colab": {
          "base_uri": "https://localhost:8080/"
        },
        "id": "6g4-MLdc9dO_",
        "outputId": "8dfe6199-3964-4083-9b49-ffaa520d5bd8"
      },
      "source": [
        "m=int(input(\"Introduce tu matricula: \"))\n",
        "n= str(input(\"Introduce tu nombre: \"))\n",
        "print (\"Tu nombre es:\",n, \"y tu matricula es:\",m)\n"
      ],
      "execution_count": null,
      "outputs": [
        {
          "output_type": "stream",
          "text": [
            "Introduce tu matricula: 1864878\n",
            "Introduce tu nombre: Alan René Cerda Serrato\n",
            "Tu nombre es: Alan René Cerda Serrato y tu matricula es: 1864878\n"
          ],
          "name": "stdout"
        }
      ]
    },
    {
      "cell_type": "markdown",
      "metadata": {
        "id": "bTes7YAwIxFK"
      },
      "source": [
        "# Ejercicio 2\n",
        "Pidiendo el input del usuario pide dos números y crea una pequeña calculadora con los operadores básicos de suma, resta, multiplicación, división, y exponente."
      ]
    },
    {
      "cell_type": "code",
      "metadata": {
        "colab": {
          "base_uri": "https://localhost:8080/"
        },
        "id": "beYSCa-7IWep",
        "outputId": "62d56d39-7eba-443a-b573-52099846fcd0"
      },
      "source": [
        "Num1= int(input(\"Introduce el primer numero: \"))\n",
        "Num2= int(input(\"Introduce el segundo numero: \"))\n",
        "Suma=Num1+Num2\n",
        "Resta=Num1-Num2\n",
        "Mult=Num1*Num2\n",
        "Divi=Num1/Num2\n",
        "Exponente=Num1**Num2\n",
        "print(\"El primer numero es: \",Num1,\n",
        "      \"El segundo numero es: \",Num2,\n",
        "      \"La suma es: \",Suma,\n",
        "      \"La resta es: \",Resta,\n",
        "      \"La multipicación es: \",Mult,\n",
        "      \"La division es: \",Divi,\n",
        "      \"El exponente es: \",Exponente)"
      ],
      "execution_count": null,
      "outputs": [
        {
          "output_type": "stream",
          "text": [
            "Introduce el primer numero: 2\n",
            "Introduce el segundo numero: 3\n",
            "El primer numero es:  2 El segundo numero es:  3 La suma es:  5 La resta es:  -1 La multipicación es:  6 La division es:  0.6666666666666666 El exponente es:  8\n"
          ],
          "name": "stdout"
        }
      ]
    },
    {
      "cell_type": "markdown",
      "metadata": {
        "id": "J_Sp2mmGJTQL"
      },
      "source": [
        "# Ejercicio 3"
      ]
    },
    {
      "cell_type": "code",
      "metadata": {
        "colab": {
          "base_uri": "https://localhost:8080/"
        },
        "id": "8rfLjCLPL5lj",
        "outputId": "4a324dac-4fdd-4653-ca82-5907686b3f47"
      },
      "source": [
        "i=1\n",
        "suma=0\n",
        "while i <= 10:\n",
        "  print(3,\" * \", i , \" = \", i * 3)\n",
        "  suma=suma+ (i*3)\n",
        "  i=i+1\n",
        "\n",
        "print(\"La suma es: \",suma)\n"
      ],
      "execution_count": null,
      "outputs": [
        {
          "output_type": "stream",
          "text": [
            "3  *  1  =  3\n",
            "3  *  2  =  6\n",
            "3  *  3  =  9\n",
            "3  *  4  =  12\n",
            "3  *  5  =  15\n",
            "3  *  6  =  18\n",
            "3  *  7  =  21\n",
            "3  *  8  =  24\n",
            "3  *  9  =  27\n",
            "3  *  10  =  30\n",
            "La suma es:  165\n"
          ],
          "name": "stdout"
        }
      ]
    },
    {
      "cell_type": "markdown",
      "metadata": {
        "id": "fh48c0lbQG1Q"
      },
      "source": [
        "# Ejercicio 4"
      ]
    },
    {
      "cell_type": "code",
      "metadata": {
        "colab": {
          "base_uri": "https://localhost:8080/"
        },
        "id": "fITiV7qDQOWI",
        "outputId": "fb74f3fe-9aa3-4695-bd39-dc5d30cb2aef"
      },
      "source": [
        "a = int(input(\"Introduce primer número: \"))\n",
        "if  (a % 2 == 0): \n",
        "    print (a,\"Es par\")\n",
        "else:\n",
        "    print (a,\"Es impar\")"
      ],
      "execution_count": null,
      "outputs": [
        {
          "output_type": "stream",
          "text": [
            "Introduce primer número: 26\n",
            "26 Es par\n"
          ],
          "name": "stdout"
        }
      ]
    },
    {
      "cell_type": "code",
      "metadata": {
        "colab": {
          "base_uri": "https://localhost:8080/"
        },
        "id": "GxHKYIK0SQD-",
        "outputId": "70c335c7-85f5-4581-e083-10ac3f69df75"
      },
      "source": [
        "a=0\n",
        "primo = int(input(\"Introduce un numero: \"))\n",
        "if primo % 2 == 0:\n",
        "  print(\"El numero\",primo,\"es par\")\n",
        "else:\n",
        "  for i in range(1,primo+1):\n",
        "    primo % i\n",
        "    if primo % i == 0:\n",
        "      desc=desc+1\n",
        "    else:\n",
        "      a=a\n",
        "if desc==2:\n",
        "  print(\"Es primo\")\n",
        "else:\n",
        "  print(\"No es primo\")"
      ],
      "execution_count": null,
      "outputs": [
        {
          "output_type": "stream",
          "text": [
            "Introduce un numero: 11\n",
            "Es primo\n"
          ],
          "name": "stdout"
        }
      ]
    },
    {
      "cell_type": "markdown",
      "metadata": {
        "id": "txuXa5hmb66R"
      },
      "source": [
        "# Ejercicio 5"
      ]
    },
    {
      "cell_type": "code",
      "metadata": {
        "colab": {
          "base_uri": "https://localhost:8080/"
        },
        "id": "OVCLL3lscB26",
        "outputId": "9064e43d-ed23-4155-8de2-b5cd2211c548"
      },
      "source": [
        "a = int(input(\"Introduce el primer número: \"))\n",
        "b = int(input(\"Introduce el segundo número: \"))\n",
        "def Suma(a,b):\n",
        "    c=a+b\n",
        "    return c\n",
        "\n",
        "print (\"Suma-->\", Suma(a,b))\n",
        "\n",
        "def Resta(a,b):\n",
        "    c=a-b\n",
        "    return c\n",
        "\n",
        "print (\"Resta -->\", Resta(a,b))\n",
        "\n",
        "def Mult(a,b):\n",
        "    c=a*b\n",
        "    return c\n",
        "\n",
        "print (\"Multiplicacion -->\", Mult(a,b))\n",
        "\n",
        "def Divi(a,b):\n",
        "    c=a/b\n",
        "    return c\n",
        "\n",
        "print (\"División -->\", Divi(a,b))\n",
        "\n",
        "def Exponente(a,b):\n",
        "    c=a**b\n",
        "    return c\n",
        "print (\"Exponente -->\", Exponente(a,b))\n"
      ],
      "execution_count": null,
      "outputs": [
        {
          "output_type": "stream",
          "text": [
            "Introduce el primer número: 4\n",
            "Introduce el segundo número: 5\n",
            "Suma--> 9\n",
            "Resta --> -1\n",
            "Multiplicacion --> 20\n",
            "División --> 0.8\n",
            "Exponente --> 1024\n"
          ],
          "name": "stdout"
        }
      ]
    },
    {
      "cell_type": "markdown",
      "metadata": {
        "id": "l67R4xABoLvY"
      },
      "source": [
        "# **Ejercicios Tuplas**"
      ]
    },
    {
      "cell_type": "markdown",
      "metadata": {
        "id": "jluR6B8uoWWH"
      },
      "source": [
        "Crear una variable flotante, integer, boleana y compleja e imprimir el tipo de variable que es."
      ]
    },
    {
      "cell_type": "code",
      "metadata": {
        "colab": {
          "base_uri": "https://localhost:8080/"
        },
        "id": "WW43cHWvobDb",
        "outputId": "92f07bdd-1210-4a16-af07-5608774ab814"
      },
      "source": [
        "a=15\n",
        "print(type(a))\n",
        "b=9.1\n",
        "print(type(b))\n",
        "c=True\n",
        "print(type(c))\n",
        "d=complex(12)\n",
        "print(type(d))"
      ],
      "execution_count": null,
      "outputs": [
        {
          "output_type": "stream",
          "text": [
            "<class 'int'>\n",
            "<class 'float'>\n",
            "<class 'bool'>\n",
            "<class 'complex'>\n"
          ],
          "name": "stdout"
        }
      ]
    },
    {
      "cell_type": "markdown",
      "metadata": {
        "id": "JaFGtwDXo4ws"
      },
      "source": [
        "Crear una tupla con valores enteros imprimir el primer y ultimo valor.\n"
      ]
    },
    {
      "cell_type": "code",
      "metadata": {
        "colab": {
          "base_uri": "https://localhost:8080/"
        },
        "id": "HzbNoZdVo9y9",
        "outputId": "44e4c3d2-280d-417d-e28c-21f92ab3b6f2"
      },
      "source": [
        "tupla1=(1,2,3,4,5)\n",
        "print(\"El primer valor: \",tupla1[0])\n",
        "print(\"El ultimo valor: \",tupla1[-1])"
      ],
      "execution_count": null,
      "outputs": [
        {
          "output_type": "stream",
          "text": [
            "El primer valor:  1\n",
            "El ultimo valor:  5\n"
          ],
          "name": "stdout"
        }
      ]
    },
    {
      "cell_type": "markdown",
      "metadata": {
        "id": "wNhKVY9tpbjA"
      },
      "source": [
        "Añadir 3 valores de string a la tupla.\n"
      ]
    },
    {
      "cell_type": "code",
      "metadata": {
        "colab": {
          "base_uri": "https://localhost:8080/"
        },
        "id": "BAA61I9ypgQC",
        "outputId": "87e6780d-38da-40ed-83d3-e422cff0b149"
      },
      "source": [
        "tupla1.__add__((\"seis\",\"siete\",\"ocho\"))"
      ],
      "execution_count": null,
      "outputs": [
        {
          "output_type": "execute_result",
          "data": {
            "text/plain": [
              "(1, 2, 3, 4, 5, 'seis', 'siete', 'ocho')"
            ]
          },
          "metadata": {},
          "execution_count": 109
        }
      ]
    },
    {
      "cell_type": "markdown",
      "metadata": {
        "id": "49jonBCQqA6c"
      },
      "source": [
        "Verificar si una variable existe dentro de la tupla."
      ]
    },
    {
      "cell_type": "code",
      "metadata": {
        "colab": {
          "base_uri": "https://localhost:8080/"
        },
        "id": "05NGPojrqCY-",
        "outputId": "afa6fcda-9057-4ca5-fbce-02a60c441013"
      },
      "source": [
        "a=int(input(\"Verifica en tupla: \",))\n",
        "if a in tupla1:\n",
        "  print(\"Si se encuentra\")\n",
        "else:\n",
        "  print(\"No se encuentra\")"
      ],
      "execution_count": null,
      "outputs": [
        {
          "output_type": "stream",
          "text": [
            "Verifica en tupla: 4\n",
            "Si se encuentra\n"
          ],
          "name": "stdout"
        }
      ]
    },
    {
      "cell_type": "markdown",
      "metadata": {
        "id": "JmElx3sPqmzt"
      },
      "source": [
        "# **Listas**"
      ]
    },
    {
      "cell_type": "markdown",
      "metadata": {
        "id": "ki3dRoGqq3Yk"
      },
      "source": [
        "Crear una lista con 40 elementos aleatorios enteros."
      ]
    },
    {
      "cell_type": "code",
      "metadata": {
        "colab": {
          "base_uri": "https://localhost:8080/"
        },
        "id": "CUapGUQIq9Xu",
        "outputId": "466eb16e-3dac-4e33-82e3-4461e78e410e"
      },
      "source": [
        "import random as r\n",
        "L40 = []\n",
        "for i in range (0,40):\n",
        "    L40.append(r.randint(1,5000))\n",
        "    \n",
        "print (L40)"
      ],
      "execution_count": null,
      "outputs": [
        {
          "output_type": "stream",
          "text": [
            "[1335, 3011, 2397, 3813, 1553, 4128, 2220, 3085, 370, 3490, 4042, 2761, 83, 1106, 27, 4631, 201, 2111, 1429, 4642, 1235, 2294, 4398, 4120, 1098, 2163, 271, 1277, 1276, 4225, 3923, 4932, 1509, 2673, 3325, 193, 98, 2511, 638, 2818]\n"
          ],
          "name": "stdout"
        }
      ]
    },
    {
      "cell_type": "markdown",
      "metadata": {
        "id": "Y1YjgLaMre_U"
      },
      "source": [
        "Con una funcion (def) crear dos listas nuevas a partir de la lista creada por numeros aleatorios, en la cual en una esten los elementos pares, y en la otra los elementos impares."
      ]
    },
    {
      "cell_type": "code",
      "metadata": {
        "colab": {
          "base_uri": "https://localhost:8080/"
        },
        "id": "LPLGqK7hrgBQ",
        "outputId": "25bb5253-ef41-478d-e53f-6c721c392cfd"
      },
      "source": [
        "def Listas(list_fun):\n",
        "  Pares=list()\n",
        "  Impares=list()\n",
        "  for i in range(0,len(list_fun)):\n",
        "    if list_fun[i]%2==0:\n",
        "      Pares.append(list_fun[i])\n",
        "    else:\n",
        "      Impares.append(list_fun[i])\n",
        "  return((Pares),(Impares))\n",
        "\n",
        "a=Listas(L40)\n",
        "print(\"Pares: \",a[0])\n",
        "print(\"Impares: \",a[1])"
      ],
      "execution_count": null,
      "outputs": [
        {
          "output_type": "stream",
          "text": [
            "Pares:  [4128, 2220, 370, 3490, 4042, 1106, 4642, 2294, 4398, 4120, 1098, 1276, 4932, 98, 638, 2818]\n",
            "Impares:  [1335, 3011, 2397, 3813, 1553, 3085, 2761, 83, 27, 4631, 201, 2111, 1429, 1235, 2163, 271, 1277, 4225, 3923, 1509, 2673, 3325, 193, 2511]\n"
          ],
          "name": "stdout"
        }
      ]
    },
    {
      "cell_type": "markdown",
      "metadata": {
        "id": "4BD7cuWnsez5"
      },
      "source": [
        "Crear dos variables con la longitud de ambas listas nuevas e imprimir las variables."
      ]
    },
    {
      "cell_type": "code",
      "metadata": {
        "colab": {
          "base_uri": "https://localhost:8080/"
        },
        "id": "EnLCglXKskqH",
        "outputId": "4d98f9c6-3c0f-4e37-8696-cd9226c3435c"
      },
      "source": [
        "Par=len(a[0])\n",
        "Impar=len(a[1])\n",
        "print(\"Longitud de pares: \",Par)\n",
        "print(\"Longitud de impares: \",Impar)"
      ],
      "execution_count": null,
      "outputs": [
        {
          "output_type": "stream",
          "text": [
            "Longitud de pares:  16\n",
            "Longitud de impares:  24\n"
          ],
          "name": "stdout"
        }
      ]
    },
    {
      "cell_type": "markdown",
      "metadata": {
        "id": "KydO6wsBs8gw"
      },
      "source": [
        "Ordenar los elementos de la lista par de mayor a menor, y los de la lista impar de menor a mayor."
      ]
    },
    {
      "cell_type": "code",
      "metadata": {
        "colab": {
          "base_uri": "https://localhost:8080/"
        },
        "id": "zHsG_gUwtAkG",
        "outputId": "04117fa0-8424-46fb-91f6-832154d6cc9d"
      },
      "source": [
        "a[0].sort(reverse=True)\n",
        "a[1].sort()\n",
        "print(\"Lista May a Men de pares: \",a[0])\n",
        "print(\"Lista Men a May de impares: \",a[1])"
      ],
      "execution_count": null,
      "outputs": [
        {
          "output_type": "stream",
          "text": [
            "Lista May a Men de pares:  [4932, 4642, 4398, 4128, 4120, 4042, 3490, 2818, 2294, 2220, 1276, 1106, 1098, 638, 370, 98]\n",
            "Lista Men a May de impares:  [27, 83, 193, 201, 271, 1235, 1277, 1335, 1429, 1509, 1553, 2111, 2163, 2397, 2511, 2673, 2761, 3011, 3085, 3325, 3813, 3923, 4225, 4631]\n"
          ],
          "name": "stdout"
        }
      ]
    },
    {
      "cell_type": "markdown",
      "metadata": {
        "id": "LY_JWYnAEPFu"
      },
      "source": [
        "Utilizar al menos cuatro de las funciones de listas en python en la lista original de 40 elementos."
      ]
    },
    {
      "cell_type": "code",
      "metadata": {
        "colab": {
          "base_uri": "https://localhost:8080/"
        },
        "id": "cmlHWSuqEwDo",
        "outputId": "ce91532e-d091-47de-c489-e819fc7dc7ab"
      },
      "source": [
        "L40.insert(6,40)\n",
        "print(L40)\n",
        "L40.pop()\n",
        "print(L40)\n",
        "L40.remove(40)\n",
        "print(L40)\n",
        "L40.reverse()\n",
        "print(L40)"
      ],
      "execution_count": null,
      "outputs": [
        {
          "output_type": "stream",
          "text": [
            "[2397, 3813, 1553, 4128, 2220, 3085, 40, 370, 3490, 4042, 2761, 83, 1106, 27, 4631, 201, 2111, 1429, 4642, 1235, 2294, 4398, 4120, 1098, 2163, 271, 1277, 1276, 4225, 3923, 4932, 1509, 2673, 3325, 40, 193, 98]\n",
            "[2397, 3813, 1553, 4128, 2220, 3085, 40, 370, 3490, 4042, 2761, 83, 1106, 27, 4631, 201, 2111, 1429, 4642, 1235, 2294, 4398, 4120, 1098, 2163, 271, 1277, 1276, 4225, 3923, 4932, 1509, 2673, 3325, 40, 193]\n",
            "[2397, 3813, 1553, 4128, 2220, 3085, 370, 3490, 4042, 2761, 83, 1106, 27, 4631, 201, 2111, 1429, 4642, 1235, 2294, 4398, 4120, 1098, 2163, 271, 1277, 1276, 4225, 3923, 4932, 1509, 2673, 3325, 40, 193]\n",
            "[193, 40, 3325, 2673, 1509, 4932, 3923, 4225, 1276, 1277, 271, 2163, 1098, 4120, 4398, 2294, 1235, 4642, 1429, 2111, 201, 4631, 27, 1106, 83, 2761, 4042, 3490, 370, 3085, 2220, 4128, 1553, 3813, 2397]\n"
          ],
          "name": "stdout"
        }
      ]
    },
    {
      "cell_type": "markdown",
      "metadata": {
        "id": "5p4JeIBcG1xd"
      },
      "source": [
        "# **Diccionarios**"
      ]
    },
    {
      "cell_type": "markdown",
      "metadata": {
        "id": "NcfrtA5pHCmQ"
      },
      "source": [
        "Crear un diccionario de 6 personas que conozcas con su primer nombre y su edad.\n"
      ]
    },
    {
      "cell_type": "code",
      "metadata": {
        "colab": {
          "base_uri": "https://localhost:8080/"
        },
        "id": "Dv4RFXiMHDEm",
        "outputId": "ae141a6c-0e4d-4b22-d642-96d9276d4001"
      },
      "source": [
        "Diccionario1={'Alan':20,'Jorge':19,'Andrés':17,'Elizabeth':20,'Laura':45,'Humberto':40}\n",
        "Diccionario1"
      ],
      "execution_count": null,
      "outputs": [
        {
          "output_type": "execute_result",
          "data": {
            "text/plain": [
              "{'Alan': 20,\n",
              " 'Andrés': 17,\n",
              " 'Elizabeth': 20,\n",
              " 'Humberto': 40,\n",
              " 'Jorge': 19,\n",
              " 'Laura': 45}"
            ]
          },
          "metadata": {},
          "execution_count": 129
        }
      ]
    },
    {
      "cell_type": "markdown",
      "metadata": {
        "id": "IdG3d7hEHhiP"
      },
      "source": [
        "Crear una lista con los valores de la edad y reacomodar la lista de menor a mayor valor."
      ]
    },
    {
      "cell_type": "code",
      "metadata": {
        "colab": {
          "base_uri": "https://localhost:8080/"
        },
        "id": "8qnFPpJbHiai",
        "outputId": "168bf13e-8365-46d3-be64-3917367b5462"
      },
      "source": [
        "ListaEdad=list(Diccionario1.values())\n",
        "ListaEdad.sort()\n",
        "ListaEdad"
      ],
      "execution_count": null,
      "outputs": [
        {
          "output_type": "execute_result",
          "data": {
            "text/plain": [
              "[17, 19, 20, 20, 40, 45]"
            ]
          },
          "metadata": {},
          "execution_count": 131
        }
      ]
    },
    {
      "cell_type": "markdown",
      "metadata": {
        "id": "s9uY1r-ZH5t3"
      },
      "source": [
        "\n",
        "Usando el diccionario y un loop, imprimir solo los nombres."
      ]
    },
    {
      "cell_type": "code",
      "metadata": {
        "colab": {
          "base_uri": "https://localhost:8080/"
        },
        "id": "u_Jht98cH6Bq",
        "outputId": "0c61375f-6284-40c6-812b-b8daec725f23"
      },
      "source": [
        "for i in Diccionario1:print(i)"
      ],
      "execution_count": null,
      "outputs": [
        {
          "output_type": "stream",
          "text": [
            "Alan\n",
            "Jorge\n",
            "Andrés\n",
            "Elizabeth\n",
            "Laura\n",
            "Humberto\n"
          ],
          "name": "stdout"
        }
      ]
    },
    {
      "cell_type": "markdown",
      "metadata": {
        "id": "NH9V5YAMIITL"
      },
      "source": [
        "\n",
        "Añadir dos personas nuevas a tu diccionario, incluyendo edad."
      ]
    },
    {
      "cell_type": "code",
      "metadata": {
        "colab": {
          "base_uri": "https://localhost:8080/"
        },
        "id": "VLfKdG5XII2_",
        "outputId": "45a07e91-a4e1-45a1-ef85-d83b485c54e3"
      },
      "source": [
        "Diccionario1['Raul']=43\n",
        "Diccionario1['Alexis']=24\n",
        "Diccionario1"
      ],
      "execution_count": null,
      "outputs": [
        {
          "output_type": "execute_result",
          "data": {
            "text/plain": [
              "{'Alan': 20,\n",
              " 'Alexis': 24,\n",
              " 'Andrés': 17,\n",
              " 'Elizabeth': 20,\n",
              " 'Humberto': 40,\n",
              " 'Jorge': 19,\n",
              " 'Laura': 45,\n",
              " 'Raul': 43}"
            ]
          },
          "metadata": {},
          "execution_count": 133
        }
      ]
    },
    {
      "cell_type": "markdown",
      "metadata": {
        "id": "wojnB7E7Ihhw"
      },
      "source": [
        "# **Sets**"
      ]
    },
    {
      "cell_type": "markdown",
      "metadata": {
        "id": "rK5DkTdPIlA_"
      },
      "source": [
        "Crea un set con 100 numeros aleatorios enteros del 1 al 25."
      ]
    },
    {
      "cell_type": "code",
      "metadata": {
        "colab": {
          "base_uri": "https://localhost:8080/"
        },
        "id": "AQuYkGl9Ilqo",
        "outputId": "af79f763-b9d7-4091-97b9-69428ac21d86"
      },
      "source": [
        "import random as r\n",
        "ListaSets= []\n",
        "for i in range (0,100):\n",
        "    ListaSets.append(r.randint(1, 25))\n",
        "Set1 = set(ListaSets)\n",
        "Set1"
      ],
      "execution_count": null,
      "outputs": [
        {
          "output_type": "execute_result",
          "data": {
            "text/plain": [
              "{1,\n",
              " 2,\n",
              " 3,\n",
              " 4,\n",
              " 5,\n",
              " 6,\n",
              " 7,\n",
              " 8,\n",
              " 9,\n",
              " 10,\n",
              " 11,\n",
              " 12,\n",
              " 13,\n",
              " 14,\n",
              " 15,\n",
              " 16,\n",
              " 17,\n",
              " 18,\n",
              " 19,\n",
              " 20,\n",
              " 21,\n",
              " 22,\n",
              " 23,\n",
              " 24,\n",
              " 25}"
            ]
          },
          "metadata": {},
          "execution_count": 136
        }
      ]
    },
    {
      "cell_type": "markdown",
      "metadata": {
        "id": "vbLunPWmJuMN"
      },
      "source": [
        "\n",
        "Comprueba la longitud de tu set."
      ]
    },
    {
      "cell_type": "code",
      "metadata": {
        "colab": {
          "base_uri": "https://localhost:8080/"
        },
        "id": "eZk6hd2wJua3",
        "outputId": "e16071eb-e32d-4c85-9d9f-da7a19ab9de9"
      },
      "source": [
        "len(Set1)"
      ],
      "execution_count": null,
      "outputs": [
        {
          "output_type": "execute_result",
          "data": {
            "text/plain": [
              "25"
            ]
          },
          "metadata": {},
          "execution_count": 137
        }
      ]
    },
    {
      "cell_type": "markdown",
      "metadata": {
        "id": "p3v63IdDJ7R0"
      },
      "source": [
        "\n",
        "Crea una lista de 5 numeros aleatorios del 1 al 10 y comprueba si cada valor aparece en el set inicial."
      ]
    },
    {
      "cell_type": "code",
      "metadata": {
        "colab": {
          "base_uri": "https://localhost:8080/"
        },
        "id": "vW4CYDWPJ7jJ",
        "outputId": "a7af9808-d81c-4c43-b9ce-02955164f711"
      },
      "source": [
        "ListaSets = []\n",
        "Set2 = set()\n",
        "for i in range (0,5):\n",
        "    ListaSets.append(r.randint(1, 10))\n",
        "for i in range (0,len(ListaSets)):\n",
        "  if ListaSets[i] in Set1:\n",
        "   Set2.add(ListaSets[i])\n",
        "print(Set2,\" si están en el set inicial\")"
      ],
      "execution_count": null,
      "outputs": [
        {
          "output_type": "stream",
          "text": [
            "{2, 4, 6, 7, 8}  si están en el set inicial\n"
          ],
          "name": "stdout"
        }
      ]
    }
  ]
}